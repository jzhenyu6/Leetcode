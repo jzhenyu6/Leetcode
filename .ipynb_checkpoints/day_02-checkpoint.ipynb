{
 "cells": [
  {
   "cell_type": "markdown",
   "id": "d01c5ad5-2381-4556-8742-938501cc4434",
   "metadata": {},
   "source": [
    "209. 长度最小的子数组\n",
    "\n",
    "给定一个含有 n 个正整数的数组和一个正整数 target 。\n",
    "\n",
    "找出该数组中满足其总和大于等于 target 的长度最小的 \n",
    "子数组\n",
    " [numsl, numsl+1, ..., numsr-1, numsr] ，并返回其长度。如果不存在符合条件的子数组，返回 0 。\n",
    "\n",
    " \n",
    "\n",
    "示例 1：\n",
    "\n",
    "输入：target = 7, nums = [2,3,1,2,4,3]\n",
    "输出：2\n",
    "解释：子数组 [4,3] 是该条件下的长度最小的子数组。\n",
    "示例 2：\n",
    "\n",
    "输入：target = 4, nums = [1,4,4]\n",
    "输出：1\n",
    "示例 3：\n",
    "\n",
    "输入：target = 11, nums = [1,1,1,1,1,1,1,1]\n",
    "输出：0"
   ]
  },
  {
   "cell_type": "code",
   "execution_count": 22,
   "id": "bf8d5f4e-cb3c-40e1-a0b2-5d557fbaf113",
   "metadata": {},
   "outputs": [
    {
     "name": "stdout",
     "output_type": "stream",
     "text": [
      "2\n"
     ]
    }
   ],
   "source": [
    "class Solution:\n",
    "    def minSubArrayLen(self, target: int, nums: List[int]) -> int:\n",
    "        n = len(nums)\n",
    "        left = 0\n",
    "        right = 0\n",
    "        sum = 0\n",
    "        min_len = float('inf')\n",
    "        while right < n:\n",
    "            sum += nums[right]\n",
    "            while sum >= target:\n",
    "                min_len = min(min_len,right-left+1)\n",
    "                sum -= nums[left]\n",
    "                left += 1\n",
    "            right += 1\n",
    "        return min_len if min_len != float('inf') else 0\n",
    "target = 7\n",
    "nums = [2,3,1,2,4,3]\n",
    "solution = Solution()\n",
    "print(solution.minSubArrayLen(target,nums))"
   ]
  },
  {
   "attachments": {},
   "cell_type": "markdown",
   "id": "55e8b763-06a8-4019-a61c-3fc686c2d987",
   "metadata": {},
   "source": [
    "59. 螺旋矩阵 II\n",
    "给你一个正整数 n ，生成一个包含 1 到 n2 所有元素，且元素按顺时针顺序螺旋排列的 n x n 正方形矩阵 matrix 。\n",
    "\n",
    "示例 1：\n",
    "\n",
    "输入：n = 3\n",
    "输出：[[1,2,3],[8,9,4],[7,6,5]]\n",
    "\n",
    "\n",
    "示例 2：\n",
    "\n",
    "输入：n = 1\n",
    "输出：[[1]]"
   ]
  },
  {
   "cell_type": "code",
   "execution_count": 28,
   "id": "ad7d6c34-4ceb-411c-90ed-540ec49b4c5b",
   "metadata": {},
   "outputs": [
    {
     "name": "stdout",
     "output_type": "stream",
     "text": [
      "[[1, 2, 3], [8, 9, 4], [7, 6, 5]]\n"
     ]
    }
   ],
   "source": [
    "class Solution:\n",
    "    def generateMatrix(self, n: int) -> List[List[int]]:\n",
    "        nums = [[0] * n for _ in range(n)]\n",
    "        startx,starty = 0,0\n",
    "        count = 1\n",
    "        for offset in range(1,n//2+1):\n",
    "            for j in range(starty,n-offset):\n",
    "                nums[startx][j] = count\n",
    "                count += 1\n",
    "            for i in range(startx,n-offset):\n",
    "                nums[i][n-offset] = count\n",
    "                count += 1\n",
    "            for j in range(n - offset,starty,-1):\n",
    "                nums[n-offset][j] = count\n",
    "                count += 1\n",
    "            for i in range(n - offset,startx,-1):\n",
    "                nums[i][starty] = count\n",
    "                count += 1\n",
    "            startx += 1\n",
    "            starty += 1\n",
    "        if n % 2 == 1:\n",
    "            nums[startx][starty] = count\n",
    "        return nums\n",
    "\n",
    "solution = Solution()\n",
    "print(solution.generateMatrix(3))    "
   ]
  },
  {
   "cell_type": "code",
   "execution_count": null,
   "id": "7ba44f10-94ce-4e39-99be-5ff393a54619",
   "metadata": {},
   "outputs": [],
   "source": []
  }
 ],
 "metadata": {
  "kernelspec": {
   "display_name": "Python 3 (ipykernel)",
   "language": "python",
   "name": "python3"
  },
  "language_info": {
   "codemirror_mode": {
    "name": "ipython",
    "version": 3
   },
   "file_extension": ".py",
   "mimetype": "text/x-python",
   "name": "python",
   "nbconvert_exporter": "python",
   "pygments_lexer": "ipython3",
   "version": "3.11.7"
  }
 },
 "nbformat": 4,
 "nbformat_minor": 5
}
