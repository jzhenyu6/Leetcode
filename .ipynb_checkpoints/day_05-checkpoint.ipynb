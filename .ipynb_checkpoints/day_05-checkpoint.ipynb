{
 "cells": [
  {
   "cell_type": "markdown",
   "id": "cae78a47-ec7e-4cc6-9cd8-bd773af2faeb",
   "metadata": {},
   "source": [
    "242. 有效的字母异位词\n",
    "给定两个字符串 s 和 t ，编写一个函数来判断 t 是否是 s 的字母异位词\n",
    "\n",
    "示例 1:\n",
    "输入: s = \"anagram\", t = \"nagaram\"\n",
    "输出: true\n",
    "\n",
    "示例 2:\n",
    "输入: s = \"rat\", t = \"car\"\n",
    "输出: false"
   ]
  },
  {
   "cell_type": "code",
   "execution_count": 4,
   "id": "c3949926-2789-4b52-87e6-5a90220334da",
   "metadata": {},
   "outputs": [
    {
     "name": "stdout",
     "output_type": "stream",
     "text": [
      "True\n"
     ]
    }
   ],
   "source": [
    "class Solution:\n",
    "    def isAnagram(self, s: str, t: str) -> bool:\n",
    "        record = [0]*26\n",
    "        for i in s:\n",
    "            record[ord(i) - ord(\"a\")] += 1\n",
    "        for i in t:\n",
    "            record[ord(i) - ord(\"a\")] -= 1\n",
    "        for i in range(26):\n",
    "            if record[i] != 0:\n",
    "                return False\n",
    "        return True\n",
    "solution = Solution()\n",
    "print(solution.isAnagram(\"anagram\",\"nagaram\"))"
   ]
  },
  {
   "cell_type": "markdown",
   "id": "0ceeef3e-c8e2-4295-aed2-8e2e5243dcc6",
   "metadata": {},
   "source": [
    "\n",
    "349. 两个数组的交集\n",
    "给定两个数组 nums1 和 nums2 ，返回 它们的 \n",
    "交集\n",
    " 。输出结果中的每个元素一定是 唯一 的。我们可以 不考虑输出结果的顺序 。\n",
    "\n",
    "示例 1：\n",
    "\n",
    "输入：nums1 = [1,2,2,1], nums2 = [2,2]\n",
    "输出：[2]\n",
    "示例 2：\n",
    "\n",
    "输入：nums1 = [4,9,5], nums2 = [9,4,9,8,4]\n",
    "输出：[9,4]\n",
    "解释：[4,9] 也是可通过的\n"
   ]
  },
  {
   "cell_type": "code",
   "execution_count": 10,
   "id": "c194d8a8-3714-49fb-a9e8-a1f2b56177e2",
   "metadata": {},
   "outputs": [
    {
     "name": "stdout",
     "output_type": "stream",
     "text": [
      "[1, 4, 5, 8]\n"
     ]
    }
   ],
   "source": [
    "class Solution:\n",
    "    def intersection(self, nums1, nums2):\n",
    "        count1 = [0] * 1001\n",
    "        count2 = [0] * 1001\n",
    "        result = []\n",
    "        for i in nums1:\n",
    "            count1[i] += 1\n",
    "        for j in nums2:\n",
    "            count2[j] += 1\n",
    "        for k in range(1001):\n",
    "            if count1[k] * count2[k] > 0:\n",
    "                result.append(k)\n",
    "        return result \n",
    "s = Solution()\n",
    "nums1 = [4, 1, 8, 4, 5]\n",
    "nums2 = [5, 0, 1, 8, 4, 5]\n",
    "result = s.intersection(nums1, nums2)\n",
    "print(result)  # 输出: [1, 4, 5, 8]"
   ]
  },
  {
   "cell_type": "code",
   "execution_count": 23,
   "id": "03cf6a89-c382-4904-934c-f393b40073d3",
   "metadata": {},
   "outputs": [
    {
     "name": "stdout",
     "output_type": "stream",
     "text": [
      "[1, 4, 5, 8]\n"
     ]
    }
   ],
   "source": [
    "class Solution:\n",
    "    def intersection(self, nums1, nums2):\n",
    "        return sorted(list(set(nums1)&set(nums2)))\n",
    "s = Solution()\n",
    "nums1 = [4, 1, 8, 4, 5]\n",
    "nums2 = [5, 0, 1, 8, 4, 5]\n",
    "result = s.intersection(nums1, nums2)\n",
    "print(result)  # 输出: [1, 4, 5, 8]"
   ]
  },
  {
   "cell_type": "markdown",
   "id": "210886c9-efd2-45e5-92cb-f1ab26ec9b44",
   "metadata": {},
   "source": [
    "202. 快乐数\n",
    "编写一个算法来判断一个数 n 是不是快乐数。\n",
    "\n",
    "「快乐数」 定义为：\n",
    "\n",
    "对于一个正整数，每一次将该数替换为它每个位置上的数字的平方和。\n",
    "然后重复这个过程直到这个数变为 1，也可能是 无限循环 但始终变不到 1。\n",
    "如果这个过程 结果为 1，那么这个数就是快乐数。\n",
    "如果 n 是 快乐数 就返回 true ；不是，则返回 false 。\n",
    "\n",
    "\n",
    "示例 1：\n",
    "\n",
    "输入：n = 19\n",
    "输出：true\n",
    "解释：\n",
    "12 + 92 = 82 \n",
    "\n",
    "82 + 22 = 68\n",
    "\n",
    "62 + 82 = 100\n",
    "\n",
    "12 + 02 + 02 = 1\n",
    "\n",
    "\n",
    "示例 2：\n",
    "\n",
    "输入：n = 2\n",
    "输出：false\n",
    " \n",
    "\n",
    "提示：\n",
    "\n",
    "1 <= n <= 231 - 1"
   ]
  },
  {
   "cell_type": "code",
   "execution_count": 30,
   "id": "a38caba4-52b7-4dd5-a7e6-fdb4775fa474",
   "metadata": {},
   "outputs": [
    {
     "name": "stdout",
     "output_type": "stream",
     "text": [
      "True\n"
     ]
    }
   ],
   "source": [
    "class Solution:\n",
    "    def isHappy(self, n: int) -> bool:\n",
    "        record = set()\n",
    "        while True:\n",
    "            n = self.get_sum(n)\n",
    "            if n == 1:\n",
    "                return True\n",
    "            \n",
    "            if n in record:\n",
    "                return False\n",
    "            else:\n",
    "                record.add(n)\n",
    "    \n",
    "    def get_sum(self,n):\n",
    "        new_num = 0\n",
    "        while n:\n",
    "            n,r = divmod(n,10)\n",
    "            new_num += r ** 2\n",
    "        return new_num\n",
    "s = Solution()\n",
    "result = s.isHappy(19)\n",
    "print(result)"
   ]
  },
  {
   "cell_type": "markdown",
   "id": "e10b6e3e-7d63-4ba7-8329-a5ed090c1074",
   "metadata": {},
   "source": [
    "1. 两数之和\n",
    "给定一个整数数组 nums 和一个整数目标值 target，请你在该数组中找出 和为目标值 target  的那 两个 整数，并返回它们的数组下标。\n",
    "\n",
    "你可以假设每种输入只会对应一个答案，并且你不能使用两次相同的元素。\n",
    "\n",
    "你可以按任意顺序返回答案。\n",
    "\n",
    "\n",
    "示例 1：\n",
    "\n",
    "输入：nums = [2,7,11,15], target = 9\n",
    "输出：[0,1]\n",
    "解释：因为 nums[0] + nums[1] == 9 ，返回 [0, 1] 。\n",
    "\n",
    "示例 2：\n",
    "\n",
    "输入：nums = [3,2,4], target = 6\n",
    "输出：[1,2]\n",
    "\n",
    "示例 3：\n",
    "\n",
    "输入：nums = [3,3], target = 6\n",
    "输出：[0,1]"
   ]
  },
  {
   "cell_type": "code",
   "execution_count": 33,
   "id": "db4d5a64-4e45-4b87-8e57-0cc8e8553b73",
   "metadata": {},
   "outputs": [
    {
     "name": "stdout",
     "output_type": "stream",
     "text": [
      "[0, 1]\n"
     ]
    }
   ],
   "source": [
    "class Solution:\n",
    "    def twoSum(self, nums, target):\n",
    "        seen = set()\n",
    "        for i,num in enumerate(nums):\n",
    "            s = target - num\n",
    "            if s in seen:\n",
    "                return [nums.index(s),i]\n",
    "            seen.add(num)\n",
    "s = Solution()\n",
    "result = s.twoSum([2,7,11,15],9)\n",
    "print(result)"
   ]
  },
  {
   "cell_type": "code",
   "execution_count": null,
   "id": "7aaa1eae-e361-4f65-9751-03a28f97948e",
   "metadata": {},
   "outputs": [],
   "source": []
  }
 ],
 "metadata": {
  "kernelspec": {
   "display_name": "Python 3 (ipykernel)",
   "language": "python",
   "name": "python3"
  },
  "language_info": {
   "codemirror_mode": {
    "name": "ipython",
    "version": 3
   },
   "file_extension": ".py",
   "mimetype": "text/x-python",
   "name": "python",
   "nbconvert_exporter": "python",
   "pygments_lexer": "ipython3",
   "version": "3.11.7"
  }
 },
 "nbformat": 4,
 "nbformat_minor": 5
}
