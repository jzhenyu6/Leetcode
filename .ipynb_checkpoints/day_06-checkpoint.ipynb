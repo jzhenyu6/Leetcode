{
 "cells": [
  {
   "cell_type": "markdown",
   "id": "402d5ff6-ed0d-4cab-a2a7-94a385eda6ec",
   "metadata": {},
   "source": [
    "454. 四数相加 II\n",
    "给你四个整数数组 nums1、nums2、nums3 和 nums4 ，数组长度都是 n ，请你计算有多少个元组 (i, j, k, l) 能满足：\n",
    "\n",
    "0 <= i, j, k, l < n\n",
    "nums1[i] + nums2[j] + nums3[k] + nums4[l] == 0\n",
    " \n",
    "\n",
    "示例 1：\n",
    "\n",
    "输入：nums1 = [1,2], nums2 = [-2,-1], nums3 = [-1,2], nums4 = [0,2]\n",
    "输出：2\n",
    "解释：\n",
    "两个元组如下：\n",
    "1. (0, 0, 0, 1) -> nums1[0] + nums2[0] + nums3[0] + nums4[1] = 1 + (-2) + (-1) + 2 = 0\n",
    "2. (1, 1, 0, 0) -> nums1[1] + nums2[1] + nums3[0] + nums4[0] = 2 + (-1) + (-1) + 0 = 0\n",
    "\n",
    "示例 2：\n",
    "\n",
    "输入：nums1 = [0], nums2 = [0], nums3 = [0], nums4 = [0]\n",
    "输出：1\n"
   ]
  },
  {
   "cell_type": "code",
   "execution_count": 5,
   "id": "b9776ebb-dc40-4639-8241-bb8f1346374c",
   "metadata": {},
   "outputs": [
    {
     "name": "stdout",
     "output_type": "stream",
     "text": [
      "2\n"
     ]
    }
   ],
   "source": [
    "class Solution:\n",
    "    def fourSumCount(self, nums1, nums2, nums3, nums4):\n",
    "        hashmap = dict()\n",
    "        count = 0\n",
    "        for i in nums1:\n",
    "            for j in nums2:\n",
    "                if i + j in hashmap:\n",
    "                    hashmap[i+j] += 1\n",
    "                else:\n",
    "                    hashmap[i+j] = 1\n",
    "        for i in nums3:\n",
    "            for j in nums4:\n",
    "                key = - i - j\n",
    "                if key in hashmap:\n",
    "                    count += hashmap[key]\n",
    "        return count\n",
    "s = Solution()\n",
    "print(s.fourSumCount([1,2],[-2,-1],[-1,2],[0,2]))"
   ]
  },
  {
   "cell_type": "markdown",
   "id": "ae0d32b1-cad0-4ef8-8af5-a89ce04ce8b7",
   "metadata": {},
   "source": [
    "383. 赎金信\n",
    "给你两个字符串：ransomNote 和 magazine ，判断 ransomNote 能不能由 magazine 里面的字符构成。\n",
    "\n",
    "如果可以，返回 true ；否则返回 false 。\n",
    "\n",
    "magazine 中的每个字符只能在 ransomNote 中使用一次。\n",
    "\n",
    " \n",
    "\n",
    "示例 1：\n",
    "\n",
    "输入：ransomNote = \"a\", magazine = \"b\"\n",
    "输出：false\n",
    "\n",
    "示例 2：\n",
    "\n",
    "输入：ransomNote = \"aa\", magazine = \"ab\"\n",
    "输出：false\n",
    "\n",
    "示例 3：\n",
    "\n",
    "输入：ransomNote = \"aa\", magazine = \"aab\"\n",
    "输出：true"
   ]
  },
  {
   "cell_type": "code",
   "execution_count": 8,
   "id": "65c38ebe-59fd-4855-acfd-81d5bbcbd424",
   "metadata": {},
   "outputs": [
    {
     "name": "stdout",
     "output_type": "stream",
     "text": [
      "False\n"
     ]
    }
   ],
   "source": [
    "class Solution:\n",
    "    def canConstruct(self, ransomNote: str, magazine: str) -> bool:\n",
    "        ransomNote_count = [0] * 26\n",
    "        magazine_count = [0] * 26\n",
    "        for c in ransomNote:\n",
    "            ransomNote_count[ord(c)-ord(\"a\")] += 1\n",
    "        for c in magazine:\n",
    "            magazine_count[ord(c)-ord(\"a\")] += 1\n",
    "        return all(ransomNote_count[i] <= magazine_count[i] for i in range(26))\n",
    "s = Solution()\n",
    "print(s.canConstruct(\"aa\",\"ab\"))"
   ]
  },
  {
   "cell_type": "markdown",
   "id": "d3e6b76e-1524-4b47-b96b-10c2bca2ea53",
   "metadata": {},
   "source": [
    "15. 三数之和\n",
    "给你一个整数数组 nums ，判断是否存在三元组 [nums[i], nums[j], nums[k]] 满足 i != j、i != k 且 j != k ，同时还满足 nums[i] + nums[j] + nums[k] == 0 。请你返回所有和为 0 且不重复的三元组。\n",
    "\n",
    "注意：答案中不可以包含重复的三元组。\n",
    "\n",
    " \n",
    "\n",
    " \n",
    "\n",
    "示例 1：\n",
    "\n",
    "输入：nums = [-1,0,1,2,-1,-4]\n",
    "输出：[[-1,-1,2],[-1,0,1]]\n",
    "解释：\n",
    "nums[0] + nums[1] + nums[2] = (-1) + 0 + 1 = 0 。\n",
    "nums[1] + nums[2] + nums[4] = 0 + 1 + (-1) = 0 。\n",
    "nums[0] + nums[3] + nums[4] = (-1) + 2 + (-1) = 0 。\n",
    "不同的三元组是 [-1,0,1] 和 [-1,-1,2] 。\n",
    "注意，输出的顺序和三元组的顺序并不重要。\n",
    "\n",
    "示例 2：\n",
    "\n",
    "输入：nums = [0,1,1]\n",
    "输出：[]\n",
    "解释：唯一可能的三元组和不为 0 。\n",
    "\n",
    "示例 3：\n",
    "\n",
    "输入：nums = [0,0,0]\n",
    "输出：[[0,0,0]]\n",
    "解释：唯一可能的三元组和为 0 。\n"
   ]
  },
  {
   "cell_type": "code",
   "execution_count": 3,
   "id": "f2272905-3e7d-4cc8-8d00-d43690e2f31e",
   "metadata": {},
   "outputs": [
    {
     "name": "stdout",
     "output_type": "stream",
     "text": [
      "[[-1, -1, 2], [-1, 0, 1]]\n"
     ]
    }
   ],
   "source": [
    "class Solution:\n",
    "    def threeSum(self, nums):\n",
    "        result = []\n",
    "        nums.sort()\n",
    "        for i in range(len(nums)):\n",
    "            if nums[i] > 0:\n",
    "                return result\n",
    "            if i > 0 and nums[i] == nums[i-1]:\n",
    "                continue\n",
    "            left = i + 1\n",
    "            right = len(nums)-1\n",
    "            while left < right:\n",
    "                sum = nums[i] + nums[left] + nums[right]\n",
    "                if sum < 0:\n",
    "                    left += 1\n",
    "                elif sum > 0:\n",
    "                    right -= 1\n",
    "                else:\n",
    "                    result.append([nums[i],nums[left],nums[right]])\n",
    "                    left += 1\n",
    "                    right -= 1\n",
    "                    while left < right and nums[left] == nums[left-1]:left += 1\n",
    "                    while left < right and nums[right] == nums[right + 1]:right -= 1\n",
    "        return result\n",
    "        \n",
    "s = Solution()\n",
    "print(s.threeSum([-1,0,1,2,-1,-4]))"
   ]
  },
  {
   "cell_type": "markdown",
   "id": "0ff7ec67-74f6-4933-8e5c-8b145e4fdcd8",
   "metadata": {},
   "source": [
    "\n",
    "18. 四数之和\n",
    "\n",
    "给你一个由 n 个整数组成的数组 nums ，和一个目标值 target 。请你找出并返回满足下述全部条件且不重复的四元组 [nums[a], nums[b], nums[c], nums[d]] （若两个四元组元素一一对应，则认为两个四元组重复）：\n",
    "\n",
    "0 <= a, b, c, d < n\n",
    "a、b、c 和 d 互不相同\n",
    "nums[a] + nums[b] + nums[c] + nums[d] == target\n",
    "你可以按 任意顺序 返回答案 。\n",
    "\n",
    " \n",
    "\n",
    "示例 1：\n",
    "\n",
    "输入：nums = [1,0,-1,0,-2,2], target = 0\n",
    "输出：[[-2,-1,1,2],[-2,0,0,2],[-1,0,0,1]]\n",
    "\n",
    "示例 2：\n",
    "\n",
    "输入：nums = [2,2,2,2,2], target = 8\n",
    "输出：[[2,2,2,2]]"
   ]
  },
  {
   "cell_type": "code",
   "execution_count": 11,
   "id": "01e59709-e3b8-4cc2-aca6-8b8523941a0a",
   "metadata": {},
   "outputs": [
    {
     "name": "stdout",
     "output_type": "stream",
     "text": [
      "[[-2, -1, 1, 2], [-2, 0, 0, 2], [-1, 0, 0, 1]]\n"
     ]
    }
   ],
   "source": [
    "class Solution:\n",
    "    def fourSum(self, nums, target):\n",
    "        nums.sort()\n",
    "        n = len(nums)\n",
    "        result = []\n",
    "        for i in range(n):\n",
    "            if nums[i] > target  and target > 0:\n",
    "                break\n",
    "            if i > 0 and nums[i] == nums[i - 1]:\n",
    "                continue\n",
    "            for j in range(i+1,n):\n",
    "                if nums[j] + nums[i] > target and target > 0:\n",
    "                    break\n",
    "                if j > i + 1 and nums[j] == nums[j-1]:\n",
    "                    continue\n",
    "                left,right = j+1,n-1\n",
    "                while left < right:\n",
    "                    s = nums[i] + nums[j] + nums[left] + nums[right]\n",
    "                    if s == target:\n",
    "                        result.append([nums[i],nums[j],nums[left],nums[right]])\n",
    "                        while left < right and nums[left] == nums[left+1]:\n",
    "                            left+=1\n",
    "                        while left < right and nums[right] == nums[right-1]:\n",
    "                            right-=1\n",
    "                        left += 1\n",
    "                        right -= 1\n",
    "                    elif s < target:\n",
    "                        left += 1\n",
    "                    else:\n",
    "                        right -= 1\n",
    "        return result\n",
    "s = Solution()\n",
    "print(s.fourSum([1,0,-1,0,-2,2],0))    "
   ]
  },
  {
   "cell_type": "code",
   "execution_count": null,
   "id": "edd3c4d7-04cd-4df4-97b3-6107b5a0e680",
   "metadata": {},
   "outputs": [],
   "source": []
  }
 ],
 "metadata": {
  "kernelspec": {
   "display_name": "Python 3 (ipykernel)",
   "language": "python",
   "name": "python3"
  },
  "language_info": {
   "codemirror_mode": {
    "name": "ipython",
    "version": 3
   },
   "file_extension": ".py",
   "mimetype": "text/x-python",
   "name": "python",
   "nbconvert_exporter": "python",
   "pygments_lexer": "ipython3",
   "version": "3.11.7"
  }
 },
 "nbformat": 4,
 "nbformat_minor": 5
}
