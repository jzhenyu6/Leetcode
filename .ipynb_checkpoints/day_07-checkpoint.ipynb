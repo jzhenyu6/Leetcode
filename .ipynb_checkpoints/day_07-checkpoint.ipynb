{
 "cells": [
  {
   "cell_type": "markdown",
   "id": "d905ff83-4e9a-473c-b3f2-307e019333d3",
   "metadata": {},
   "source": [
    "344. 反转字符串\n",
    "编写一个函数，其作用是将输入的字符串反转过来。输入字符串以字符数组 s 的形式给出。\n",
    "\n",
    "不要给另外的数组分配额外的空间，你必须原地修改输入数组、使用 O(1) 的额外空间解决这一问题。\n",
    "\n",
    " \n",
    "\n",
    "示例 1：\n",
    "\n",
    "输入：s = [\"h\",\"e\",\"l\",\"l\",\"o\"]\n",
    "输出：[\"o\",\"l\",\"l\",\"e\",\"h\"]\n",
    "\n",
    "示例 2：\n",
    "\n",
    "输入：s = [\"H\",\"a\",\"n\",\"n\",\"a\",\"h\"]\n",
    "输出：[\"h\",\"a\",\"n\",\"n\",\"a\",\"H\"]\n",
    " \n",
    "\n",
    "提示：\n",
    "\n",
    "1 <= s.length <= 105\n",
    "s[i] 都是 ASCII 码表中的可打印字符"
   ]
  },
  {
   "cell_type": "code",
   "execution_count": 5,
   "id": "b3b368f5-8bab-44a4-8bd1-6a8f27cdb538",
   "metadata": {},
   "outputs": [
    {
     "name": "stdout",
     "output_type": "stream",
     "text": [
      "['o', 'l', 'l', 'e', 'h']\n"
     ]
    }
   ],
   "source": [
    "class Solution:\n",
    "    def reverseString(self, s):\n",
    "        left,right = 0,len(s)-1\n",
    "        while left < right:\n",
    "            s[left],s[right] = s[right],s[left]\n",
    "            left += 1\n",
    "            right -= 1\n",
    "        return s\n",
    "s = Solution()\n",
    "print(s.reverseString([\"h\",\"e\",\"l\",\"l\",\"o\"]))"
   ]
  },
  {
   "cell_type": "code",
   "execution_count": 9,
   "id": "6b477bba-8173-4151-acb6-9cada9272d8b",
   "metadata": {},
   "outputs": [
    {
     "name": "stdout",
     "output_type": "stream",
     "text": [
      "['o', 'l', 'l', 'e', 'h']\n"
     ]
    }
   ],
   "source": [
    "class Solution:\n",
    "    def reverseString(self, s):\n",
    "        \"\"\"\n",
    "        Do not return anything, modify s in-place instead.\n",
    "        \"\"\"\n",
    "        stack = []\n",
    "        for i in s:\n",
    "            stack.append(i)\n",
    "        for i in range(len(s)):\n",
    "            s[i] = stack.pop()\n",
    "        return s\n",
    "s = Solution()\n",
    "print(s.reverseString([\"h\",\"e\",\"l\",\"l\",\"o\"]))"
   ]
  },
  {
   "cell_type": "markdown",
   "id": "d85320ce-3df1-42ea-826d-9bcb0760e662",
   "metadata": {},
   "source": [
    "541. 反转字符串 II\n",
    "给定一个字符串 s 和一个整数 k，从字符串开头算起，每计数至 2k 个字符，就反转这 2k 字符中的前 k 个字符。\n",
    "\n",
    "如果剩余字符少于 k 个，则将剩余字符全部反转。\n",
    "如果剩余字符小于 2k 但大于或等于 k 个，则反转前 k 个字符，其余字符保持原样。\n",
    " \n",
    "\n",
    "示例 1：\n",
    "\n",
    "输入：s = \"abcdefg\", k = 2\n",
    "输出：\"bacdfeg\"\n",
    "\n",
    "示例 2：\n",
    "\n",
    "输入：s = \"abcd\", k = 2\n",
    "输出：\"bacd\"\n",
    " \n",
    "\n",
    "提示：\n",
    "\n",
    "1 <= s.length <= 104\n",
    "s 仅由小写英文组成\n",
    "1 <= k <= 104"
   ]
  },
  {
   "cell_type": "code",
   "execution_count": 14,
   "id": "720d64d0-899a-49e9-91e7-4efbfe42f9ee",
   "metadata": {},
   "outputs": [
    {
     "name": "stdout",
     "output_type": "stream",
     "text": [
      "bacdfeg\n"
     ]
    }
   ],
   "source": [
    "class Solution:\n",
    "    def reverseStr(self, s, k):\n",
    "        def reverse_substring(sub_string):\n",
    "            left,right = 0,len(sub_string) - 1\n",
    "            while right > left:\n",
    "                sub_string[left],sub_string[right] = sub_string[right],sub_string[left]\n",
    "                left += 1\n",
    "                right -= 1\n",
    "            return sub_string\n",
    "        res = list(s)\n",
    "        for cur in range(0,len(s),2*k):\n",
    "            res[cur:cur+k] = reverse_substring(res[cur:cur+k])\n",
    "        return \"\".join(res)\n",
    "s = Solution()\n",
    "print(s.reverseStr(\"abcdefg\",2))        "
   ]
  },
  {
   "cell_type": "markdown",
   "id": "4c429715-1f11-40f0-94ca-73cf28a2daec",
   "metadata": {},
   "source": [
    "54. 替换数字（第八期模拟笔试）\n",
    "\n",
    "题目描述\n",
    "\n",
    "给定一个字符串 s，它包含小写字母和数字字符，请编写一个函数，将字符串中的字母字符保持不变，而将每个数字字符替换为number。 例如，对于输入字符串 \"a1b2c3\"，函数应该将其转换为 \"anumberbnumbercnumber\"。\n",
    "\n",
    "输入描述\n",
    "\n",
    "输入一个字符串 s,s 仅包含小写字母和数字字符。\n",
    "\n",
    "输出描述\n",
    "\n",
    "打印一个新的字符串，其中每个数字字符都被替换为了number\n",
    "输入示例\n",
    "\n",
    "a1b2c3\n",
    "\n",
    "输出示例\n",
    "\n",
    "anumberbnumbercnumber\n",
    "\n",
    "提示信息\n",
    "数据范围：\n",
    "\n",
    "1 <= s.length < 10000。"
   ]
  },
  {
   "cell_type": "code",
   "execution_count": 20,
   "id": "410dd1c5-bba2-4e36-ad51-fe9713304688",
   "metadata": {},
   "outputs": [
    {
     "name": "stdout",
     "output_type": "stream",
     "text": [
      "anumberbnumbercnumber\n"
     ]
    }
   ],
   "source": [
    "def replace(s):\n",
    "    result = []\n",
    "    for i in s:\n",
    "        if i.isdigit():\n",
    "            result.append(\"number\")\n",
    "        else:\n",
    "            result.append(i)\n",
    "    \n",
    "    return \"\".join(result)\n",
    "print(replace(\"a1b2c3\"))\n",
    "    "
   ]
  },
  {
   "cell_type": "code",
   "execution_count": null,
   "id": "dfe81885-a46f-483a-81b0-002afd8d31b4",
   "metadata": {},
   "outputs": [],
   "source": []
  }
 ],
 "metadata": {
  "kernelspec": {
   "display_name": "Python 3 (ipykernel)",
   "language": "python",
   "name": "python3"
  },
  "language_info": {
   "codemirror_mode": {
    "name": "ipython",
    "version": 3
   },
   "file_extension": ".py",
   "mimetype": "text/x-python",
   "name": "python",
   "nbconvert_exporter": "python",
   "pygments_lexer": "ipython3",
   "version": "3.11.7"
  }
 },
 "nbformat": 4,
 "nbformat_minor": 5
}
