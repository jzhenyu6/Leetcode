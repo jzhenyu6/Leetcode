{
 "cells": [
  {
   "cell_type": "markdown",
   "id": "d4a03f61-3f80-4c3d-8242-f5c9b72c27ad",
   "metadata": {},
   "source": [
    "151. 反转字符串中的单词\n",
    "给你一个字符串 s ，请你反转字符串中 单词 的顺序。\n",
    "\n",
    "单词 是由非空格字符组成的字符串。s 中使用至少一个空格将字符串中的 单词 分隔开。\n",
    "\n",
    "返回 单词 顺序颠倒且 单词 之间用单个空格连接的结果字符串。\n",
    "\n",
    "注意：输入字符串 s中可能会存在前导空格、尾随空格或者单词间的多个空格。返回的结果字符串中，单词间应当仅用单个空格分隔，且不包含任何额外的空格。\n",
    "\n",
    " \n",
    "\n",
    "示例 1：\n",
    "\n",
    "输入：s = \"the sky is blue\"\n",
    "输出：\"blue is sky the\"\n",
    "\n",
    "示例 2：\n",
    "\n",
    "输入：s = \"  hello world  \"\n",
    "输出：\"world hello\"\n",
    "解释：反转后的字符串中不能存在前导空格和尾随空格。\n",
    "\n",
    "示例 3：\n",
    "\n",
    "输入：s = \"a good   example\"\n",
    "输出：\"example good a\"\n",
    "解释：如果两个单词间有多余的空格，反转后的字符串需要将单词间的空格减少到仅有一个。\n",
    " \n",
    "\n",
    "提示：\n",
    "\n",
    "1 <= s.length <= 104\n",
    "s 包含英文大小写字母、数字和空格 ' '\n",
    "s 中 至少存在一个 单词"
   ]
  },
  {
   "cell_type": "code",
   "execution_count": null,
   "id": "e3e25552-1d66-4013-ae71-3fc1754f4718",
   "metadata": {},
   "outputs": [],
   "source": [
    "class Solution:\n",
    "    def reverseWords(self, s: str) -> str:\n",
    "        words = s.split()\n",
    "        return \" \".join(words[::-1])\n"
   ]
  }
 ],
 "metadata": {
  "kernelspec": {
   "display_name": "Python 3 (ipykernel)",
   "language": "python",
   "name": "python3"
  },
  "language_info": {
   "codemirror_mode": {
    "name": "ipython",
    "version": 3
   },
   "file_extension": ".py",
   "mimetype": "text/x-python",
   "name": "python",
   "nbconvert_exporter": "python",
   "pygments_lexer": "ipython3",
   "version": "3.11.7"
  }
 },
 "nbformat": 4,
 "nbformat_minor": 5
}
