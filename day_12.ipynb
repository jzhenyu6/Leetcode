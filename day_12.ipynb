{
 "cells": [
  {
   "cell_type": "markdown",
   "id": "3e59d992-3ac8-4f1d-a35d-69cce88a5dbc",
   "metadata": {},
   "source": [
    "150. 逆波兰表达式求值\n",
    "\n",
    "给你一个字符串数组 tokens ，表示一个根据 逆波兰表示法 表示的算术表达式。\n",
    "\n",
    "请你计算该表达式。返回一个表示表达式值的整数。\n",
    "\n",
    "注意：\n",
    "\n",
    "有效的算符为 '+'、'-'、'*' 和 '/' 。\n",
    "每个操作数（运算对象）都可以是一个整数或者另一个表达式。\n",
    "两个整数之间的除法总是 向零截断 。\n",
    "表达式中不含除零运算。\n",
    "输入是一个根据逆波兰表示法表示的算术表达式。\n",
    "答案及所有中间计算结果可以用 32 位 整数表示。\n",
    " \n",
    "\n",
    "示例 1：\n",
    "\n",
    "输入：tokens = [\"2\",\"1\",\"+\",\"3\",\"*\"]\n",
    "输出：9\n",
    "解释：该算式转化为常见的中缀算术表达式为：((2 + 1) * 3) = 9\n",
    "示例 2：\n",
    "\n",
    "输入：tokens = [\"4\",\"13\",\"5\",\"/\",\"+\"]\n",
    "输出：6\n",
    "解释：该算式转化为常见的中缀算术表达式为：(4 + (13 / 5)) = 6\n",
    "示例 3：\n",
    "\n",
    "输入：tokens = [\"10\",\"6\",\"9\",\"3\",\"+\",\"-11\",\"*\",\"/\",\"*\",\"17\",\"+\",\"5\",\"+\"]\n",
    "输出：22\n",
    "解释：该算式转化为常见的中缀算术表达式为：\n",
    "  ((10 * (6 / ((9 + 3) * -11))) + 17) + 5\n",
    "= ((10 * (6 / (12 * -11))) + 17) + 5\n",
    "= ((10 * (6 / -132)) + 17) + 5\n",
    "= ((10 * 0) + 17) + 5\n",
    "= (0 + 17) + 5\n",
    "= 17 + 5\n",
    "= 22\n",
    " \n",
    "\n",
    "提示：\n",
    "\n",
    "1 <= tokens.length <= 104\n",
    "tokens[i] 是一个算符（\"+\"、\"-\"、\"*\" 或 \"/\"），或是在范围 [-200, 200] 内的一个整数\n",
    " \n",
    "\n",
    "逆波兰表达式：\n",
    "\n",
    "逆波兰表达式是一种后缀表达式，所谓后缀就是指算符写在后面。\n",
    "\n",
    "平常使用的算式则是一种中缀表达式，如 ( 1 + 2 ) * ( 3 + 4 ) 。\n",
    "该算式的逆波兰表达式写法为 ( ( 1 2 + ) ( 3 4 + ) * ) 。\n",
    "逆波兰表达式主要有以下两个优点：\n",
    "\n",
    "去掉括号后表达式无歧义，上式即便写成 1 2 + 3 4 + * 也可以依据次序计算出正确结果。\n",
    "适合用栈操作运算：遇到数字则入栈；遇到算符则取出栈顶两个数字进行计算，并将结果压入栈中"
   ]
  },
  {
   "cell_type": "code",
   "execution_count": 19,
   "id": "a861b7a2-0b17-49ad-b25d-5e1f3155579b",
   "metadata": {},
   "outputs": [
    {
     "name": "stdout",
     "output_type": "stream",
     "text": [
      "21\n"
     ]
    }
   ],
   "source": [
    "from operator import add, sub, mul\n",
    "def div(x,y):\n",
    "    return int(x/y) if x * y > 0 else -(abs(x)//abs(y))\n",
    "op_map = {'+': add, '-': sub, '*': mul, '/': div}\n",
    "class Solution:\n",
    "    def evalRPN(self, tokens):\n",
    "        stack = []\n",
    "        for token in tokens:\n",
    "            if token!= '':\n",
    "                if token not in op_map:\n",
    "                    stack.append(int(token))\n",
    "                else:\n",
    "                    op2 = stack.pop()\n",
    "                    op1 = stack.pop()\n",
    "                    stack.append(op_map[token](op1,op2))\n",
    "        return stack.pop()\n",
    "            \n",
    "s = Solution()\n",
    "print(s.evalRPN([\"10\",\"6\",\"9\",\"3\",\"+\",\"-11\",\"\",\"/\",\"\",\"17\",\"+\",\"5\",\"+\"]))\n",
    "        "
   ]
  },
  {
   "cell_type": "markdown",
   "id": "dcd21ee3-f7e0-4f5b-8bc5-93c464699564",
   "metadata": {},
   "source": [
    "239. 滑动窗口最大值\n",
    "\n",
    "给你一个整数数组 nums，有一个大小为 k 的滑动窗口从数组的最左侧移动到数组的最右侧。你只可以看到在滑动窗口内的 k 个数字。滑动窗口每次只向右移动一位。\n",
    "\n",
    "返回 滑动窗口中的最大值 。\n",
    "\n",
    " \n",
    "\n",
    "示例 1：\n",
    "\n",
    "输入：nums = [1,3,-1,-3,5,3,6,7], k = 3\n",
    "输出：[3,3,5,5,6,7]\n",
    "解释：\n",
    "滑动窗口的位置                最大值\n",
    "---------------               -----\n",
    "[1  3  -1] -3  5  3  6  7       3\n",
    " 1 [3  -1  -3] 5  3  6  7       3\n",
    " 1  3 [-1  -3  5] 3  6  7       5\n",
    " 1  3  -1 [-3  5  3] 6  7       5\n",
    " 1  3  -1  -3 [5  3  6] 7       6\n",
    " 1  3  -1  -3  5 [3  6  7]      7\n",
    "\n",
    "示例 2：\n",
    "\n",
    "输入：nums = [1], k = 1\n",
    "输出：[1]\n",
    " \n",
    "\n",
    "提示：\n",
    "\n",
    "1 <= nums.length <= 105\n",
    "-104 <= nums[i] <= 104\n",
    "1 <= k <= nums.length"
   ]
  },
  {
   "cell_type": "code",
   "execution_count": 28,
   "id": "ff44845d-217b-4da2-97f6-8ed8a6448ae1",
   "metadata": {},
   "outputs": [
    {
     "name": "stdout",
     "output_type": "stream",
     "text": [
      "[3, 3, 5, 5, 6, 7]\n"
     ]
    }
   ],
   "source": [
    "from collections import deque\n",
    "class MyQueue:\n",
    "    def __init__(self):\n",
    "        self.queue = deque()\n",
    "    def pop(self,value):\n",
    "        if self.queue and value == self.queue[0]:\n",
    "            self.queue.popleft()\n",
    "    def push(self,value):\n",
    "        while self.queue and value > self.queue[-1]:\n",
    "            self.queue.pop()\n",
    "        self.queue.append(value)\n",
    "    def front(self):\n",
    "        return self.queue[0]\n",
    "class Solution:\n",
    "    def maxSlidingWindow(self, nums, k):\n",
    "        queue = MyQueue()\n",
    "        res = []\n",
    "        for i in range(k):\n",
    "            queue.push(nums[i])\n",
    "        res.append(queue.front())\n",
    "        for i in range(k,len(nums)):\n",
    "            queue.pop(nums[i-k])\n",
    "            queue.push(nums[i])\n",
    "            res.append(queue.front())\n",
    "        return res\n",
    "\n",
    "s = Solution()\n",
    "print(s.maxSlidingWindow([1,3,-1,-3,5,3,6,7],3))\n",
    "   "
   ]
  },
  {
   "cell_type": "code",
   "execution_count": null,
   "id": "b9af5107-a923-49a7-b93b-164002393a6c",
   "metadata": {},
   "outputs": [],
   "source": []
  }
 ],
 "metadata": {
  "kernelspec": {
   "display_name": "Python 3 (ipykernel)",
   "language": "python",
   "name": "python3"
  },
  "language_info": {
   "codemirror_mode": {
    "name": "ipython",
    "version": 3
   },
   "file_extension": ".py",
   "mimetype": "text/x-python",
   "name": "python",
   "nbconvert_exporter": "python",
   "pygments_lexer": "ipython3",
   "version": "3.11.7"
  }
 },
 "nbformat": 4,
 "nbformat_minor": 5
}
